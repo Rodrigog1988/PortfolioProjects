{
 "cells": [
  {
   "cell_type": "markdown",
   "id": "67898e31",
   "metadata": {},
   "source": [
    "## Table of Contents\n",
    "- [Section 1](#Section-1)\n",
    "- [Section 1.1](#Section-1.1)\n",
    "- [Section 2](#Section-2)"
   ]
  },
  {
   "cell_type": "markdown",
   "id": "c2ad649b",
   "metadata": {},
   "source": [
    "## Section 1\n",
    "Lorem ipsum dolor sit amet, consectetur adipiscing elit, sed do eiusmod tempor incididunt ut labore et dolore magna aliqua. \n"
   ]
  },
  {
   "cell_type": "markdown",
   "id": "744d2fad",
   "metadata": {},
   "source": [
    "### Section 1.1\n",
    "Lorem ipsum dolor sit amet, consectetur adipiscing elit, sed do eiusmod tempor incididunt ut labore et dolore magna aliqua. "
   ]
  },
  {
   "cell_type": "markdown",
   "id": "f9a4226b",
   "metadata": {},
   "source": [
    "## Section 2\n",
    "Ut enim ad minim veniam, quis nostrud exercitation ullamco laboris nisi ut aliquip ex ea commodo consequat."
   ]
  },
  {
   "cell_type": "code",
   "execution_count": null,
   "id": "cc0786b7",
   "metadata": {},
   "outputs": [],
   "source": []
  }
 ],
 "metadata": {
  "kernelspec": {
   "display_name": "Python 3 (ipykernel)",
   "language": "python",
   "name": "python3"
  },
  "language_info": {
   "codemirror_mode": {
    "name": "ipython",
    "version": 3
   },
   "file_extension": ".py",
   "mimetype": "text/x-python",
   "name": "python",
   "nbconvert_exporter": "python",
   "pygments_lexer": "ipython3",
   "version": "3.9.13"
  },
  "toc": {
   "base_numbering": 1,
   "nav_menu": {},
   "number_sections": false,
   "sideBar": true,
   "skip_h1_title": false,
   "title_cell": "Table of Contents",
   "title_sidebar": "Contents",
   "toc_cell": false,
   "toc_position": {
    "height": "calc(100% - 180px)",
    "left": "10px",
    "top": "150px",
    "width": "259.188px"
   },
   "toc_section_display": true,
   "toc_window_display": true
  }
 },
 "nbformat": 4,
 "nbformat_minor": 5
}
